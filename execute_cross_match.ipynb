{
 "cells": [
  {
   "cell_type": "code",
   "execution_count": 1,
   "metadata": {
    "collapsed": false
   },
   "outputs": [],
   "source": [
    "from CrossMatch import *\n",
    "import datetime"
   ]
  },
  {
   "cell_type": "code",
   "execution_count": 2,
   "metadata": {
    "collapsed": false
   },
   "outputs": [
    {
     "name": "stdout",
     "output_type": "stream",
     "text": [
      "TESS short cadence targets: 72947\n",
      "K2 targets: 50\n",
      "26 matches saved to data/crossmatch_planets.csv\n",
      "time: 0:00:21.939264\n"
     ]
    }
   ],
   "source": [
    "start = datetime.datetime.now()\n",
    "cross_match(target_type='planets',verbose=True,vals=['pl_hostname','pl_letter','pl_orbper'])\n",
    "print('time:',datetime.datetime.now()-start)"
   ]
  },
  {
   "cell_type": "code",
   "execution_count": 3,
   "metadata": {
    "collapsed": false
   },
   "outputs": [
    {
     "name": "stdout",
     "output_type": "stream",
     "text": [
      "TESS short cadence targets: 72947\n",
      "K2 targets: 132\n",
      "34 matches saved to data/crossmatch_candidates.csv\n",
      "time: 0:01:01.279095\n"
     ]
    }
   ],
   "source": [
    "start = datetime.datetime.now()\n",
    "cross_match(target_type='candidates',verbose=True,vals=['pl_orbper'])\n",
    "print('time:',datetime.datetime.now()-start)"
   ]
  },
  {
   "cell_type": "code",
   "execution_count": 4,
   "metadata": {
    "collapsed": false
   },
   "outputs": [
    {
     "name": "stdout",
     "output_type": "stream",
     "text": [
      "312\n"
     ]
    }
   ],
   "source": [
    "crossmatch_all = pandas.read_csv('data/crossmatch_all.csv')\n",
    "crossmatch_TIC_set = set(crossmatch_all['0'].tolist())"
   ]
  }
 ],
 "metadata": {
  "anaconda-cloud": {},
  "kernelspec": {
   "display_name": "Python [conda root]",
   "language": "python",
   "name": "conda-root-py"
  },
  "language_info": {
   "codemirror_mode": {
    "name": "ipython",
    "version": 3
   },
   "file_extension": ".py",
   "mimetype": "text/x-python",
   "name": "python",
   "nbconvert_exporter": "python",
   "pygments_lexer": "ipython3",
   "version": "3.5.6"
  }
 },
 "nbformat": 4,
 "nbformat_minor": 1
}
