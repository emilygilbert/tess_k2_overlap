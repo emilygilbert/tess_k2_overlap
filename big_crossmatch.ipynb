{
 "cells": [
  {
   "cell_type": "markdown",
   "metadata": {},
   "source": [
    "# Finding all K2 targets observed with TESS 2 minute cadence data in sectors 1-7"
   ]
  },
  {
   "cell_type": "code",
   "execution_count": 1,
   "metadata": {},
   "outputs": [],
   "source": [
    "from mast import *\n",
    "import pandas\n",
    "import pickle"
   ]
  },
  {
   "cell_type": "markdown",
   "metadata": {},
   "source": [
    "### Get TIC IDs for all TESS 2 min cadence targets in sectors 1-7"
   ]
  },
  {
   "cell_type": "code",
   "execution_count": 2,
   "metadata": {},
   "outputs": [
    {
     "name": "stdout",
     "output_type": "stream",
     "text": [
      "(72947, 1)\n"
     ]
    }
   ],
   "source": [
    "shortCad = pandas.read_csv('data/TESS_short_cad.csv')\n",
    "print(shortCad.shape)"
   ]
  },
  {
   "cell_type": "code",
   "execution_count": 3,
   "metadata": {},
   "outputs": [
    {
     "name": "stdout",
     "output_type": "stream",
     "text": [
      "72947\n"
     ]
    }
   ],
   "source": [
    "cadTICs = []\n",
    "\n",
    "for index,row in shortCad.iterrows():\n",
    "    tic = row['TIC']\n",
    "    cadTICs.append(tic)\n",
    "    \n",
    "print(len(cadTICs))"
   ]
  },
  {
   "cell_type": "markdown",
   "metadata": {},
   "source": [
    "### Get TIC IDs for all K2 targets within the TESS field of view for sectors 1-7 with magnitudes <= 16\n",
    "\n",
    "#### Get EPIC IDs for these targets"
   ]
  },
  {
   "cell_type": "code",
   "execution_count": 4,
   "metadata": {},
   "outputs": [
    {
     "name": "stdout",
     "output_type": "stream",
     "text": [
      "(12177, 11)\n"
     ]
    }
   ],
   "source": [
    "K2 = pandas.read_csv('overlap_trimmed.csv')\n",
    "print(K2.shape)"
   ]
  },
  {
   "cell_type": "markdown",
   "metadata": {},
   "source": [
    "#### Break K2 target list into chunks because it's slow"
   ]
  },
  {
   "cell_type": "code",
   "execution_count": 5,
   "metadata": {},
   "outputs": [
    {
     "name": "stdout",
     "output_type": "stream",
     "text": [
      "13\n",
      "(1000, 11)\n"
     ]
    }
   ],
   "source": [
    "segments = []\n",
    "for thousand in range(13):\n",
    "    start = thousand * 1000\n",
    "    K2_slice = K2.iloc[start:start+1000,:]\n",
    "    segments.append(K2_slice)\n",
    "print(len(segments))\n",
    "print(segments[0].shape)"
   ]
  },
  {
   "cell_type": "markdown",
   "metadata": {},
   "source": [
    "#### Convert the K2 EPIC IDs into TIC IDs using eleanor's tic_from_coords function"
   ]
  },
  {
   "cell_type": "code",
   "execution_count": 6,
   "metadata": {
    "collapsed": true
   },
   "outputs": [],
   "source": [
    "def append_tics(count,tic_list,dataframe,verbose=True):\n",
    "    for index,row, in dataframe.iterrows():\n",
    "        count += 1\n",
    "        if (count%100)==0:\n",
    "            if verbose:\n",
    "                print(count)\n",
    "        try:\n",
    "            RA = row['RA']\n",
    "            Dec = row['DEC']\n",
    "            tic = tic_from_coords((float(RA),float(Dec)))[0]\n",
    "            tic_list.append(tic)\n",
    "        except ValueError:\n",
    "            print(RA,Dec,tic)\n",
    "    print(len(tic_list))\n",
    "    return count,tic_list"
   ]
  },
  {
   "cell_type": "markdown",
   "metadata": {},
   "source": [
    "#### Run that on everything to get a giant list of K2 TIC IDs!\n",
    "\n",
    "This is slow (~2 hours total)"
   ]
  },
  {
   "cell_type": "code",
   "execution_count": 7,
   "metadata": {
    "collapsed": true
   },
   "outputs": [],
   "source": [
    "K2TICs = []\n",
    "count = 0"
   ]
  },
  {
   "cell_type": "code",
   "execution_count": null,
   "metadata": {
    "collapsed": true
   },
   "outputs": [],
   "source": [
    "count,K2TICs = append_tics(count,K2TICs,segments[0])"
   ]
  },
  {
   "cell_type": "code",
   "execution_count": null,
   "metadata": {},
   "outputs": [],
   "source": [
    "count,K2TICs = append_tics(count,K2TICs,segments[1])\n",
    "print(len(K2TICs))"
   ]
  },
  {
   "cell_type": "code",
   "execution_count": null,
   "metadata": {},
   "outputs": [],
   "source": [
    "count,K2TICs = append_tics(count,K2TICs,segments[2])\n",
    "print(len(K2TICs))"
   ]
  },
  {
   "cell_type": "code",
   "execution_count": null,
   "metadata": {},
   "outputs": [],
   "source": [
    "count,K2TICs = append_tics(count,K2TICs,segments[3])\n",
    "print(len(K2TICs))"
   ]
  },
  {
   "cell_type": "markdown",
   "metadata": {},
   "source": [
    "Saving intermediately in case it crashes"
   ]
  },
  {
   "cell_type": "code",
   "execution_count": 15,
   "metadata": {
    "collapsed": true
   },
   "outputs": [],
   "source": [
    "K2TICs_df = pandas.DataFrame(K2TICs)\n",
    "K2TICs_df.to_csv('overlap_trimmed_TICs.csv')"
   ]
  },
  {
   "cell_type": "code",
   "execution_count": null,
   "metadata": {},
   "outputs": [],
   "source": [
    "count,K2TICs = append_tics(count,K2TICs,segments[4])\n",
    "print(len(K2TICs))"
   ]
  },
  {
   "cell_type": "code",
   "execution_count": null,
   "metadata": {},
   "outputs": [],
   "source": [
    "count,K2TICs = append_tics(count,K2TICs,segments[5])\n",
    "print(len(K2TICs))"
   ]
  },
  {
   "cell_type": "code",
   "execution_count": null,
   "metadata": {},
   "outputs": [],
   "source": [
    "count,K2TICs = append_tics(count,K2TICs,segments[6])\n",
    "print(len(K2TICs))"
   ]
  },
  {
   "cell_type": "markdown",
   "metadata": {},
   "source": [
    "Saving intermediately in case it crashes"
   ]
  },
  {
   "cell_type": "code",
   "execution_count": 19,
   "metadata": {
    "collapsed": true
   },
   "outputs": [],
   "source": [
    "K2TICs_df = pandas.DataFrame(K2TICs)\n",
    "K2TICs_df.to_csv('overlap_trimmed_TICs.csv')"
   ]
  },
  {
   "cell_type": "code",
   "execution_count": null,
   "metadata": {},
   "outputs": [],
   "source": [
    "count,K2TICs = append_tics(count,K2TICs,segments[7])\n",
    "print(len(K2TICs))"
   ]
  },
  {
   "cell_type": "code",
   "execution_count": null,
   "metadata": {},
   "outputs": [],
   "source": [
    "count,K2TICs = append_tics(count,K2TICs,segments[8])\n",
    "print(len(K2TICs))"
   ]
  },
  {
   "cell_type": "code",
   "execution_count": null,
   "metadata": {},
   "outputs": [],
   "source": [
    "count,K2TICs = append_tics(count,K2TICs,segments[9])\n",
    "print(len(K2TICs))"
   ]
  },
  {
   "cell_type": "code",
   "execution_count": null,
   "metadata": {},
   "outputs": [],
   "source": [
    "count,K2TICs = append_tics(count,K2TICs,segments[10])\n",
    "print(len(K2TICs))"
   ]
  },
  {
   "cell_type": "markdown",
   "metadata": {},
   "source": [
    "Saving intermediately in case it crashes"
   ]
  },
  {
   "cell_type": "code",
   "execution_count": 25,
   "metadata": {
    "collapsed": true
   },
   "outputs": [],
   "source": [
    "K2TICs_df = pandas.DataFrame(K2TICs)\n",
    "K2TICs_df.to_csv('overlap_trimmed_TICs.csv')"
   ]
  },
  {
   "cell_type": "code",
   "execution_count": null,
   "metadata": {},
   "outputs": [],
   "source": [
    "count,K2TICs = append_tics(count,K2TICs,segments[11])\n",
    "print(len(K2TICs))"
   ]
  },
  {
   "cell_type": "code",
   "execution_count": null,
   "metadata": {},
   "outputs": [],
   "source": [
    "count,K2TICs = append_tics(count,K2TICs,segments[12])\n",
    "print(len(K2TICs))"
   ]
  },
  {
   "cell_type": "markdown",
   "metadata": {},
   "source": [
    "### Save K2 TIC IDs and cross-match with TESS 2 min targets"
   ]
  },
  {
   "cell_type": "code",
   "execution_count": 34,
   "metadata": {},
   "outputs": [
    {
     "name": "stdout",
     "output_type": "stream",
     "text": [
      "(12929, 1)\n",
      "12929\n"
     ]
    }
   ],
   "source": [
    "K2TICs_df = pandas.DataFrame(K2TICs)\n",
    "K2TICs_df.to_csv('overlap_trimmed_TICs.csv')"
   ]
  },
  {
   "cell_type": "code",
   "execution_count": 37,
   "metadata": {},
   "outputs": [
    {
     "name": "stdout",
     "output_type": "stream",
     "text": [
      "312\n"
     ]
    }
   ],
   "source": [
    "matches = set(K2TICs).intersection(set(cadTICs))\n",
    "print(len(matches))"
   ]
  },
  {
   "cell_type": "markdown",
   "metadata": {},
   "source": [
    "### Save cross-matched TIC IDs and test retreival"
   ]
  },
  {
   "cell_type": "code",
   "execution_count": 38,
   "metadata": {},
   "outputs": [],
   "source": [
    "match_df = list(matches)\n",
    "match_df = pandas.DataFrame(match_df)\n",
    "match_df.to_csv('data/crossmatch_all.csv')"
   ]
  },
  {
   "cell_type": "code",
   "execution_count": 39,
   "metadata": {},
   "outputs": [
    {
     "name": "stdout",
     "output_type": "stream",
     "text": [
      "(312, 2)\n",
      "Unnamed: 0            0\n",
      "0             240720896\n",
      "Name: 0, dtype: int64\n"
     ]
    }
   ],
   "source": [
    "match_test = pandas.read_csv('data/crossmatch_all.csv')\n",
    "print(match_test.shape)\n",
    "print(match_test.iloc[0])"
   ]
  }
 ],
 "metadata": {
  "anaconda-cloud": {},
  "kernelspec": {
   "display_name": "Python 3",
   "language": "python",
   "name": "python3"
  },
  "language_info": {
   "codemirror_mode": {
    "name": "ipython",
    "version": 3
   },
   "file_extension": ".py",
   "mimetype": "text/x-python",
   "name": "python",
   "nbconvert_exporter": "python",
   "pygments_lexer": "ipython3",
   "version": "3.7.3"
  }
 },
 "nbformat": 4,
 "nbformat_minor": 1
}
